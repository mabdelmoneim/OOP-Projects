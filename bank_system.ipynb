{
 "cells": [
  {
   "cell_type": "code",
   "execution_count": 1,
   "id": "dc48e38c",
   "metadata": {},
   "outputs": [],
   "source": [
    "class User:\n",
    "    def __init__(self, name, age, gender, balance):\n",
    "        self.name = name \n",
    "        self.age = age\n",
    "        self.gender = gender\n",
    "        self.balance = balance\n",
    "        \n",
    "    def Display(self):\n",
    "        print(f'''\n",
    "        name : {self.name}\n",
    "        age : {self.age}\n",
    "        gender : {self.gender}\n",
    "        balance: {self.balance}\n",
    "        ''')"
   ]
  },
  {
   "cell_type": "code",
   "execution_count": 2,
   "id": "c542d74b",
   "metadata": {},
   "outputs": [],
   "source": [
    "user = User('ahmed', 23, 'male', '1000000')"
   ]
  },
  {
   "cell_type": "code",
   "execution_count": 3,
   "id": "e4233d48",
   "metadata": {},
   "outputs": [
    {
     "data": {
      "text/plain": [
       "'1000000'"
      ]
     },
     "execution_count": 3,
     "metadata": {},
     "output_type": "execute_result"
    }
   ],
   "source": [
    "user.balance"
   ]
  },
  {
   "cell_type": "code",
   "execution_count": 4,
   "id": "b5e9cc75",
   "metadata": {},
   "outputs": [],
   "source": [
    "class Bank(User):\n",
    "    def Deposite(self, amount):\n",
    "        self.balance += amount\n",
    "        \n",
    "    def Withdraw(self, amount):\n",
    "        if amount < self.balance:\n",
    "            self.balance -= amount\n",
    "            print('Done!')\n",
    "        else:\n",
    "            print(\"there is no enough money!\")\n",
    "            "
   ]
  },
  {
   "cell_type": "code",
   "execution_count": 5,
   "id": "48ed72a6",
   "metadata": {},
   "outputs": [],
   "source": [
    "bank = Bank('ali', 40, 'male', 100000)"
   ]
  },
  {
   "cell_type": "code",
   "execution_count": 6,
   "id": "40f60d56",
   "metadata": {},
   "outputs": [
    {
     "data": {
      "text/plain": [
       "100000"
      ]
     },
     "execution_count": 6,
     "metadata": {},
     "output_type": "execute_result"
    }
   ],
   "source": [
    "bank.balance"
   ]
  },
  {
   "cell_type": "code",
   "execution_count": 7,
   "id": "dc543889",
   "metadata": {},
   "outputs": [],
   "source": [
    "bank.Deposite(1000)"
   ]
  },
  {
   "cell_type": "code",
   "execution_count": 8,
   "id": "638d055c",
   "metadata": {},
   "outputs": [
    {
     "data": {
      "text/plain": [
       "101000"
      ]
     },
     "execution_count": 8,
     "metadata": {},
     "output_type": "execute_result"
    }
   ],
   "source": [
    "bank.balance"
   ]
  },
  {
   "cell_type": "code",
   "execution_count": 9,
   "id": "b04a94c7",
   "metadata": {},
   "outputs": [],
   "source": [
    "class Cib(Bank):\n",
    "  \n",
    "    \n",
    "    def Loan(self, amount, duration=1):\n",
    "        \n",
    "        if amount > 1000000:\n",
    "            print('cannot be done max loan is 1000000!')\n",
    "        else:\n",
    "            print('done!')\n",
    "\n",
    "class QNB(Bank):\n",
    "  \n",
    "    \n",
    "    def Loan(self, amount, duration=2):\n",
    "        \n",
    "        if amount > 2000000:\n",
    "            print('cannot be done max loan is 1000000!')\n",
    "        else:\n",
    "            print('done!')"
   ]
  },
  {
   "cell_type": "code",
   "execution_count": 10,
   "id": "d831fc2a",
   "metadata": {},
   "outputs": [],
   "source": [
    "cib = Cib('belal', 24, 'male', 1000)"
   ]
  },
  {
   "cell_type": "code",
   "execution_count": 11,
   "id": "84227bfd",
   "metadata": {},
   "outputs": [
    {
     "name": "stdout",
     "output_type": "stream",
     "text": [
      "done!\n"
     ]
    }
   ],
   "source": [
    "cib.Loan(100)"
   ]
  },
  {
   "cell_type": "code",
   "execution_count": 12,
   "id": "2123a848",
   "metadata": {},
   "outputs": [],
   "source": [
    "qnb = QNB('belal', 24, 'male', 1000)"
   ]
  },
  {
   "cell_type": "code",
   "execution_count": 13,
   "id": "363b88ff",
   "metadata": {},
   "outputs": [
    {
     "name": "stdout",
     "output_type": "stream",
     "text": [
      "cannot be done max loan is 1000000!\n"
     ]
    }
   ],
   "source": [
    "qnb.Loan(3000000)"
   ]
  },
  {
   "cell_type": "code",
   "execution_count": null,
   "id": "c5ab223b",
   "metadata": {},
   "outputs": [],
   "source": []
  }
 ],
 "metadata": {
  "kernelspec": {
   "display_name": "Python 3 (ipykernel)",
   "language": "python",
   "name": "python3"
  },
  "language_info": {
   "codemirror_mode": {
    "name": "ipython",
    "version": 3
   },
   "file_extension": ".py",
   "mimetype": "text/x-python",
   "name": "python",
   "nbconvert_exporter": "python",
   "pygments_lexer": "ipython3",
   "version": "3.10.8"
  }
 },
 "nbformat": 4,
 "nbformat_minor": 5
}
