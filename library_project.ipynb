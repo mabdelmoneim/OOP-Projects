{
 "cells": [
  {
   "cell_type": "code",
   "execution_count": 1,
   "id": "0e7da65e",
   "metadata": {},
   "outputs": [],
   "source": [
    "class Library:\n",
    "    def __init__(self,li,n):\n",
    "        self.book_list = li\n",
    "        self.name = n\n",
    "        self.lendDict = {}\n",
    "        \n",
    "    def display_books(self):\n",
    "        print(f'We have the following books in our library {self.name}')\n",
    "        for book in self.book_list:\n",
    "            print(book)\n",
    "    \n",
    "    def lendbook(self,user,book):\n",
    "        if book not in self.book_list:\n",
    "            print(\"this book is not exist\")\n",
    "        elif book not in self.lendDict.keys():\n",
    "           # self.lendDict[book] = user\n",
    "            self.lendDict.update({book:user})\n",
    "            print(\"thank u for taking our book .. database is updated\")\n",
    "        else:\n",
    "            print(f'book is already lended by {self.lendDict[book]}')\n",
    "    def addBook(self,book):\n",
    "        self.book_list.append(book)\n",
    "        print(f'book {book} added successfully in our database')\n",
    "    \n",
    "    def returnBook(self,book):\n",
    "        self.lendDict.pop(book)\n",
    "        print(f\"book {book} has returned successfully to our library\") "
   ]
  },
  {
   "cell_type": "code",
   "execution_count": 2,
   "id": "081fee18",
   "metadata": {},
   "outputs": [],
   "source": [
    "Iin_lib = Library(['book1', 'b2', 'b3'], 'Iinshtin')"
   ]
  },
  {
   "cell_type": "code",
   "execution_count": 3,
   "id": "534fd7ab",
   "metadata": {},
   "outputs": [
    {
     "name": "stdout",
     "output_type": "stream",
     "text": [
      "We have the following books in our library Iinshtin\n",
      "book1\n",
      "b2\n",
      "b3\n"
     ]
    }
   ],
   "source": [
    "Iin_lib.display_books()"
   ]
  },
  {
   "cell_type": "code",
   "execution_count": 4,
   "id": "6fda13b0",
   "metadata": {},
   "outputs": [
    {
     "name": "stdout",
     "output_type": "stream",
     "text": [
      "thank u for taking our book .. database is updated\n"
     ]
    }
   ],
   "source": [
    "Iin_lib.lendbook('ahmed', 'book1')"
   ]
  },
  {
   "cell_type": "code",
   "execution_count": 5,
   "id": "3e44fb3e",
   "metadata": {},
   "outputs": [
    {
     "name": "stdout",
     "output_type": "stream",
     "text": [
      "this book is not exist\n"
     ]
    }
   ],
   "source": [
    "Iin_lib.lendbook('belal', 'book4')"
   ]
  },
  {
   "cell_type": "code",
   "execution_count": 6,
   "id": "6909184b",
   "metadata": {},
   "outputs": [
    {
     "name": "stdout",
     "output_type": "stream",
     "text": [
      "book book4 added successfully in our database\n"
     ]
    }
   ],
   "source": [
    "Iin_lib.addBook('book4')"
   ]
  },
  {
   "cell_type": "code",
   "execution_count": 7,
   "id": "d322fb11",
   "metadata": {},
   "outputs": [
    {
     "data": {
      "text/plain": [
       "['book1', 'b2', 'b3', 'book4']"
      ]
     },
     "execution_count": 7,
     "metadata": {},
     "output_type": "execute_result"
    }
   ],
   "source": [
    "Iin_lib.book_list"
   ]
  },
  {
   "cell_type": "code",
   "execution_count": 8,
   "id": "6fca99c9",
   "metadata": {},
   "outputs": [
    {
     "data": {
      "text/plain": [
       "{'book1': 'ahmed'}"
      ]
     },
     "execution_count": 8,
     "metadata": {},
     "output_type": "execute_result"
    }
   ],
   "source": [
    "Iin_lib.lendDict"
   ]
  },
  {
   "cell_type": "code",
   "execution_count": 9,
   "id": "58d89e2f",
   "metadata": {},
   "outputs": [
    {
     "name": "stdout",
     "output_type": "stream",
     "text": [
      "book book1 has returned successfully to our library\n"
     ]
    }
   ],
   "source": [
    "Iin_lib.returnBook( 'book1')"
   ]
  },
  {
   "cell_type": "code",
   "execution_count": null,
   "id": "b1801dad",
   "metadata": {},
   "outputs": [],
   "source": []
  }
 ],
 "metadata": {
  "kernelspec": {
   "display_name": "Python 3 (ipykernel)",
   "language": "python",
   "name": "python3"
  },
  "language_info": {
   "codemirror_mode": {
    "name": "ipython",
    "version": 3
   },
   "file_extension": ".py",
   "mimetype": "text/x-python",
   "name": "python",
   "nbconvert_exporter": "python",
   "pygments_lexer": "ipython3",
   "version": "3.10.8"
  }
 },
 "nbformat": 4,
 "nbformat_minor": 5
}
